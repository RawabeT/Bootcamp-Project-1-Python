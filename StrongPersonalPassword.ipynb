{
 "cells": [
  {
   "cell_type": "code",
   "execution_count": 190,
   "id": "63e7f4af",
   "metadata": {},
   "outputs": [
    {
     "name": "stdout",
     "output_type": "stream",
     "text": [
      "Enter your password length 6\n",
      "Generated password: 5|Qkaq and password length: 6\n"
     ]
    }
   ],
   "source": [
    "import random\n",
    "\n",
    "#initialize\n",
    "maxLen = 0\n",
    "password = ''\n",
    "\n",
    "#set data\n",
    "letters = ['a', 'b', 'c', 'd', 'e', 'f', 'g', 'h',\n",
    "           'i', 'j', 'k', 'm', 'n', 'o', 'p', 'q',\n",
    "           'r', 's', 't', 'u', 'v', 'w', 'x', 'y','z']\n",
    "\n",
    "#ask user input\n",
    "userInput = input('Enter your password length ')\n",
    "maxLen = int(userInput)\n",
    "    \n",
    "# function to add random numbers\n",
    "def addRandomNumbers():\n",
    "    return random.randint(0,9)\n",
    "\n",
    "#function to add random symbols\n",
    "def symbols():\n",
    "    symbols = ['@', '#', '$', '%', '=', ':', '?', '.', '/', '|', '~', '>',\n",
    "           '*', '(', ')', '<']\n",
    "    return random.choice(symbols)\n",
    "\n",
    "password = random.choice(str(addRandomNumbers())) + random.choice(str(symbols())) + random.choice(list(map(lambda x: x.upper(), letters))) # using lambda ex to capitalaize letters\n",
    "\n",
    "for i in range(maxLen - 3):\n",
    "    password += random.choice(letters)\n",
    "    \n",
    "print(f'Generated password: {password} and password length: {len(password)}')"
   ]
  }
 ],
 "metadata": {
  "kernelspec": {
   "display_name": "Python 3 (ipykernel)",
   "language": "python",
   "name": "python3"
  },
  "language_info": {
   "codemirror_mode": {
    "name": "ipython",
    "version": 3
   },
   "file_extension": ".py",
   "mimetype": "text/x-python",
   "name": "python",
   "nbconvert_exporter": "python",
   "pygments_lexer": "ipython3",
   "version": "3.9.12"
  }
 },
 "nbformat": 4,
 "nbformat_minor": 5
}
